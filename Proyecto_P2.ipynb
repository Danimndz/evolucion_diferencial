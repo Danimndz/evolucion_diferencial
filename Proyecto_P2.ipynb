{
 "cells": [
  {
   "cell_type": "markdown",
   "metadata": {},
   "source": [
    "#                                   UNIVERSIDAD PANAMERICANA"
   ]
  },
  {
   "cell_type": "markdown",
   "metadata": {},
   "source": [
    "![title](https://universidadesdemexico.mx/logos/original/logo-universidad-panamericana.png)"
   ]
  },
  {
   "cell_type": "markdown",
   "metadata": {},
   "source": [
    "# Optimizacion y Metaheurísticas ll"
   ]
  },
  {
   "cell_type": "markdown",
   "metadata": {},
   "source": []
  },
  {
   "cell_type": "code",
   "execution_count": null,
   "metadata": {},
   "outputs": [],
   "source": []
  },
  {
   "cell_type": "markdown",
   "metadata": {},
   "source": [
    "# Generar imagen"
   ]
  },
  {
   "cell_type": "markdown",
   "metadata": {},
   "source": [
    "Lo que se propone es: Al principio trazar un círculo con valores random y con el algoritmo de evolución diferencial ir evolucionando los valores e ir insertándolos uno a uno, después comparar el error de la imagen hecha con la original y hacer esto hasta que el error sea 0 o muy cercano\n"
   ]
  },
  {
   "cell_type": "markdown",
   "metadata": {},
   "source": [
    "## ¿Que es Evolución Diferencial?\n"
   ]
  },
  {
   "cell_type": "markdown",
   "metadata": {},
   "source": [
    "Es un algoritmo evolutivo que sirve para resolver problemas de optimización continua. Es un algoritmo muy diferente a los otros en cuanto a que emplea los métodos del proceso evolutivo de manera diferente, también hace una combinación lineal de los valores de tres individuos que son seleccionados de forma aleatoria de la población."
   ]
  },
  {
   "cell_type": "markdown",
   "metadata": {},
   "source": [
    "## Explicación del algoritmo implementado para generar imagenes"
   ]
  },
  {
   "cell_type": "markdown",
   "metadata": {},
   "source": [
    "El algoritmo tiene 5 métodos los cuales son:\n",
    "Crear población\n",
    "\n",
    "Fitness (cálculo de error)\n",
    "\n",
    "Mutación \n",
    "\n",
    "Reproducción\n",
    "\n"
   ]
  },
  {
   "cell_type": "markdown",
   "metadata": {},
   "source": [
    "Primero debemos cargar la imagen que vamos a replicar asi como en la que vamos a \"dibujar\". Deben ser del mismo tamaño\n"
   ]
  },
  {
   "cell_type": "code",
   "execution_count": 4,
   "metadata": {},
   "outputs": [],
   "source": [
    "import numpy as np \n",
    "import cv2\n",
    "\n",
    "imgA = cv2.imread(r'C:\\Users\\wachu\\Documents\\IIA\\Semestre 6\\Optimizacion & Metaheuristicas II\\P2\\proyecto\\GTHsprsmall.jpg',1)\n",
    "auxImg = cv2.imread(r'C:\\Users\\wachu\\Documents\\IIA\\Semestre 6\\Optimizacion & Metaheuristicas II\\P2\\proyecto\\CircleGsprsmall.jpg',1)\n",
    "numI = 0\n",
    "maxImgValue = 100\n",
    "minRadius = 2\n",
    "maxRadius = 50\n",
    "thickness = -1\n",
    "\n",
    "pathToSave = r\"C:\\Users\\wachu\\Documents\\IIA\\Semestre 6\\Optimizacion & Metaheuristicas II\\P2\\proyecto\""
   ]
  },
  {
   "cell_type": "markdown",
   "metadata": {},
   "source": [
    "maxImgValue son el valor maximo que obtendran las coordenadas de los circulos, es el tamaño maximo de la imagen\n",
    "\n",
    "minRadius y maxRadius es el valor minimo y maximo que tendra el radio del circulo \n",
    "\n",
    "thickness siempre sera -1, esto es para que el circulo se rellene, si se pone otro valor solo trazara el contorno"
   ]
  },
  {
   "cell_type": "markdown",
   "metadata": {},
   "source": [
    "## Crear poblacion"
   ]
  },
  {
   "cell_type": "markdown",
   "metadata": {},
   "source": [
    "La poblacion consiste en un arreglo en el que se tendran los valores de (x,y) posicion en donde se dibujara el circulo, el radio y el R G B. Estos valores se son los parametros que recibe la funcion cv2.circle que sirve para dibujar el circulo"
   ]
  },
  {
   "cell_type": "code",
   "execution_count": 6,
   "metadata": {},
   "outputs": [],
   "source": [
    "def poblacion_inicial(n):\n",
    "    pobIn = []\n",
    "    for i in range(n):\n",
    "        individuo = []\n",
    "        center_coords1 = np.random.randint(0,maxImgValue)\n",
    "        center_coords2 = np.random.randint(0,maxImgValue)\n",
    "        radius = np.random.randint(minRadius,maxRadius)\n",
    "        colorR = np.random.randint(0,255)\n",
    "        colorG= np.random.randint(0,255)\n",
    "        colorB= np.random.randint(0,255)\n",
    "        individuo.append(int(center_coords1))\n",
    "        individuo.append(int(center_coords2))\n",
    "        individuo.append(int(radius))\n",
    "        individuo.append(int(colorR))\n",
    "        individuo.append(int(colorG))\n",
    "        individuo.append(int(colorB))\n",
    "        individuo.append(int(thickness))\n",
    "        pobIn.append(individuo)\n",
    "    return np.array(pobIn)"
   ]
  },
  {
   "cell_type": "markdown",
   "metadata": {},
   "source": [
    "## Calcular Fitness\n"
   ]
  },
  {
   "cell_type": "markdown",
   "metadata": {},
   "source": [
    "Para calcular el fitness lo que se hace es comparar las dos imágenes haciendo u tomamos la diferencia entre las imágenes restando las intensidades de píxeles. Después, elevamos al cuadrado estas diferencias y regresamos el error. Entre mas grande quiere decir que tiene mucho error y entre mas cercano a 0 es que el error va disminuyendo"
   ]
  },
  {
   "cell_type": "code",
   "execution_count": 12,
   "metadata": {},
   "outputs": [],
   "source": [
    "def fitnessIndividuo(ind):\n",
    "\n",
    "    imInd = np.copy(auxImg)\n",
    "    imInd = cv2.circle(imInd,(int(ind[0]),int(ind[1])),int(ind[2]),(int(ind[3]),int(ind[4]),int(ind[5])),thickness)\n",
    "    fit = np.sum( ( imgA.astype(\"float\")-imInd.astype(\"float\") )**2) #Faltaban parentesis\n",
    "    return fit\n",
    "\n",
    "def fitness(pob):\n",
    "    fitnesPob = []\n",
    "    for i in pob:\n",
    "        fitnesPob.append(fitnessIndividuo(i))\n",
    "    return fitnesPob\n",
    "\n",
    "def buscar_elite(pob,fit):\n",
    "    indexFit = np.argmin(fit)\n",
    "    minFit = np.amin(fit)\n",
    "    return pob[indexFit],minFit\n"
   ]
  },
  {
   "cell_type": "markdown",
   "metadata": {},
   "source": [
    "## Mutación"
   ]
  },
  {
   "cell_type": "markdown",
   "metadata": {},
   "source": [
    "En la mutación lo que se hace es seleccionar a 3 individuos aleatorios los cuales nos servirán para crear un nuevo vector, para sacarlo se utiliza esta formula Vi = A+F*(B-C) donde A,B,C son los individuos random y F un valor de 0 a 2. Despues de hacer eso es importante en este caso convertir TODOS los valores a enteros, pues los valores que queremos son enteros y a la hora de multiplicarlos por F quedaran flotantes.\n",
    "También al final para que los valores no me dieran negativos o más grandes que la imagen, puse restricciones, una para cada variable, para las coordenadas si el valor es menor a cero entonces lo pongo como cero, y si es mayor al valor máximo de la imagen lo pongo como el valor máximo de la imagen, para el radio y los colores es lo mismo."
   ]
  },
  {
   "cell_type": "code",
   "execution_count": 8,
   "metadata": {},
   "outputs": [],
   "source": [
    "def mutacion(pob):\n",
    "    pob = pob.astype(float)\n",
    "    pobMut = []\n",
    "    for i in range(len(pob)):\n",
    "        indexX1 = np.random.randint(len(pob))\n",
    "        indexX2 = np.random.randint(len(pob))\n",
    "        indexX3 = np.random.randint(len(pob))\n",
    "        F = np.random.random()*2\n",
    "        vi = pob[indexX1,:]+F*(pob[indexX2,:]-pob[indexX3,:])\n",
    "        vi[0] = 0 if vi[0] < 0 else vi[0]\n",
    "        vi[1] = 0 if vi[1] < 0 else vi[1]\n",
    "        vi[0] = maxImgValue if vi[0] > maxImgValue else vi[0]\n",
    "        vi[1] = maxImgValue if vi[1] > maxImgValue else vi[1]\n",
    "\n",
    "        vi[2] = minRadius if vi[2] < minRadius else vi[2]\n",
    "        vi[2] = maxRadius if vi[2] > maxRadius else vi[2]\n",
    "\n",
    "        vi[3] = 0 if vi[3] < 0 else vi[3]\n",
    "        vi[4] = 0 if vi[4] < 0 else vi[4]\n",
    "        vi[5] = 0 if vi[5] < 0 else vi[5]\n",
    "        vi[3] = 255 if vi[3] > 255 else vi[3]\n",
    "        vi[4] = 255 if vi[4] > 255 else vi[4]\n",
    "        vi[5] = 255 if vi[5] > 255 else vi[5]\n",
    "\n",
    "        pobMut.append(vi)\n",
    "    return np.array(pobMut).astype(\"int\")"
   ]
  },
  {
   "cell_type": "markdown",
   "metadata": {},
   "source": [
    "## Reproduccion"
   ]
  },
  {
   "cell_type": "markdown",
   "metadata": {},
   "source": [
    "Para la reproducción se necesitarán dos poblaciones: la original y la mutada, así como un valor para dividir a los individuos (CR) de cada población y meterlos en un nuevo arreglo, y un numero aleatorio. Se hace parámetro por parámetro, esto es, se recorrerá cada individuo de los dos arreglos, y si el valor CR es menor a r entonces se agregará el valor que este en la posición i de la población original, si es mayor se agregara el valor que este en la posición i de la población mutada.\n",
    "Ahora, para cerciorarnos que haya individuos de las dos poblaciones se necesitara un valor entero random (l), si l es igual a i (núm de posición) el valor que este en i de la población mutada se pondrá en el nuevo arreglo\n"
   ]
  },
  {
   "cell_type": "code",
   "execution_count": 9,
   "metadata": {},
   "outputs": [],
   "source": [
    "def reproduccion(pob,pobM):\n",
    "    pobRep = []\n",
    "    for i in range(len(pob)):\n",
    "        u = np.zeros((7),float)\n",
    "        for j in range(len(pob[0])):\n",
    "            r = np.random.random()\n",
    "            Cr = np.random.random()\n",
    "            l = np.random.randint(7)\n",
    "            if j == l: u[j] = pobM[i][l]\n",
    "            else:\n",
    "                u[j] = pobM[i][j] if r < Cr else pob[i][j]\n",
    "        pobRep.append(u)\n",
    "    return np.array(pobRep).astype(\"int\")"
   ]
  },
  {
   "cell_type": "markdown",
   "metadata": {},
   "source": [
    "## Selección"
   ]
  },
  {
   "cell_type": "markdown",
   "metadata": {},
   "source": [
    "Para la selección de los individuos se necesita la población original y la población reproducida, se compararán sus “fitness”, si uno es menor que el otro, ese individuo se agregara a la población original y viceversa"
   ]
  },
  {
   "cell_type": "code",
   "execution_count": 10,
   "metadata": {},
   "outputs": [],
   "source": [
    "def seleccion(pob,pobRep,fitX,fitU):\n",
    "    pobSelect = []\n",
    "    fitSelect = []\n",
    "    for i in range(len(pob)):\n",
    "         if fitX[i] < fitU[i]:\n",
    "             pobSelect.append(pob[i])\n",
    "             fitSelect.append(fitX[i])\n",
    "         else:\n",
    "             pobSelect.append(pobRep[i])\n",
    "             fitSelect.append(fitU[i])\n",
    "    return np.array(pobSelect).astype(int),fitSelect"
   ]
  },
  {
   "cell_type": "markdown",
   "metadata": {},
   "source": [
    "## Resultados\n"
   ]
  },
  {
   "cell_type": "markdown",
   "metadata": {},
   "source": [
    "Esta es la imagen original:"
   ]
  },
  {
   "cell_type": "code",
   "execution_count": 22,
   "metadata": {},
   "outputs": [
    {
     "data": {
      "image/jpeg": "[encoded data removed]",
      "text/plain": [
       "<IPython.core.display.Image object>"
      ]
     },
     "execution_count": 22,
     "metadata": {},
     "output_type": "execute_result"
    }
   ],
   "source": [
    "from IPython.display import display, Image, SVG, Math, YouTubeVideo\n",
    "i = Image(filename=r'C:\\Users\\wachu\\Documents\\IIA\\Semestre 6\\Optimizacion & Metaheuristicas II\\P2\\proyecto\\GTHsprsmall.jpg')\n",
    "i"
   ]
  },
  {
   "cell_type": "markdown",
   "metadata": {},
   "source": [
    "### Iteracion 0:"
   ]
  },
  {
   "cell_type": "code",
   "execution_count": 24,
   "metadata": {},
   "outputs": [
    {
     "data": {
      "image/jpeg": "[encoded data removed]",
      "text/plain": [
       "<IPython.core.display.Image object>"
      ]
     },
     "execution_count": 24,
     "metadata": {},
     "output_type": "execute_result"
    }
   ],
   "source": [
    "it0 = Image(filename=r'C:\\Users\\wachu\\Documents\\IIA\\Semestre 6\\Optimizacion & Metaheuristicas II\\P2\\proyectomyImageSprSmll0.jpg')\n",
    "it0"
   ]
  },
  {
   "cell_type": "markdown",
   "metadata": {},
   "source": [
    "### Iteracion 1:"
   ]
  },
  {
   "cell_type": "code",
   "execution_count": 30,
   "metadata": {},
   "outputs": [
    {
     "data": {
      "image/jpeg": "[encoded data removed]",
      "text/plain": [
       "<IPython.core.display.Image object>"
      ]
     },
     "execution_count": 30,
     "metadata": {},
     "output_type": "execute_result"
    }
   ],
   "source": [
    "it1 = Image(filename=r'C:\\Users\\wachu\\Documents\\IIA\\Semestre 6\\Optimizacion & Metaheuristicas II\\P2\\proyectomyImageSprSmll1.jpg')\n",
    "it1"
   ]
  },
  {
   "cell_type": "markdown",
   "metadata": {},
   "source": [
    "### iteracion 5:"
   ]
  },
  {
   "cell_type": "code",
   "execution_count": 26,
   "metadata": {},
   "outputs": [
    {
     "data": {
      "image/jpeg": "[encoded data removed]",
      "text/plain": [
       "<IPython.core.display.Image object>"
      ]
     },
     "execution_count": 26,
     "metadata": {},
     "output_type": "execute_result"
    }
   ],
   "source": [
    "it5 = Image(filename=r'C:\\Users\\wachu\\Documents\\IIA\\Semestre 6\\Optimizacion & Metaheuristicas II\\P2\\proyectomyImageSprSmll5.jpg')\n",
    "it5"
   ]
  },
  {
   "cell_type": "markdown",
   "metadata": {},
   "source": [
    "### iteracion 10:"
   ]
  },
  {
   "cell_type": "code",
   "execution_count": 31,
   "metadata": {},
   "outputs": [
    {
     "data": {
      "image/jpeg": "[encoded data removed]",
      "text/plain": [
       "<IPython.core.display.Image object>"
      ]
     },
     "execution_count": 31,
     "metadata": {},
     "output_type": "execute_result"
    }
   ],
   "source": [
    "it10 = Image(filename=r'C:\\Users\\wachu\\Documents\\IIA\\Semestre 6\\Optimizacion & Metaheuristicas II\\P2\\proyectomyImageSprSmll10.jpg')\n",
    "it10"
   ]
  },
  {
   "cell_type": "markdown",
   "metadata": {},
   "source": [
    "### iteracion 100:"
   ]
  },
  {
   "cell_type": "code",
   "execution_count": 32,
   "metadata": {},
   "outputs": [
    {
     "data": {
      "image/jpeg": "[encoded data removed]",
      "text/plain": [
       "<IPython.core.display.Image object>"
      ]
     },
     "execution_count": 32,
     "metadata": {},
     "output_type": "execute_result"
    }
   ],
   "source": [
    "it100 = Image(filename=r'C:\\Users\\wachu\\Documents\\IIA\\Semestre 6\\Optimizacion & Metaheuristicas II\\P2\\proyectomyImageSprSmll100.jpg')\n",
    "it100"
   ]
  },
  {
   "cell_type": "markdown",
   "metadata": {},
   "source": [
    "### iteracion 500"
   ]
  },
  {
   "cell_type": "code",
   "execution_count": 33,
   "metadata": {},
   "outputs": [
    {
     "data": {
      "image/jpeg": "[encoded data removed]",
      "text/plain": [
       "<IPython.core.display.Image object>"
      ]
     },
     "execution_count": 33,
     "metadata": {},
     "output_type": "execute_result"
    }
   ],
   "source": [
    "it500 = Image(filename=r'C:\\Users\\wachu\\Documents\\IIA\\Semestre 6\\Optimizacion & Metaheuristicas II\\P2\\proyectomyImageSprSmll500.jpg')\n",
    "it500"
   ]
  },
  {
   "cell_type": "markdown",
   "metadata": {},
   "source": [
    "### iteracion 2000:"
   ]
  },
  {
   "cell_type": "code",
   "execution_count": 37,
   "metadata": {},
   "outputs": [
    {
     "data": {
      "image/jpeg": "[encoded data removed]",
      "text/plain": [
       "<IPython.core.display.Image object>"
      ]
     },
     "execution_count": 37,
     "metadata": {},
     "output_type": "execute_result"
    }
   ],
   "source": [
    "it2000 = Image(filename=r'C:\\Users\\wachu\\Documents\\IIA\\Semestre 6\\Optimizacion & Metaheuristicas II\\P2\\proyectomyImageSprSmll1999.jpg')\n",
    "it2000"
   ]
  },
  {
   "cell_type": "markdown",
   "metadata": {},
   "source": [
    "### iteracion 4000:"
   ]
  },
  {
   "cell_type": "code",
   "execution_count": 39,
   "metadata": {},
   "outputs": [
    {
     "data": {
      "image/jpeg": "[encoded data removed]",
      "text/plain": [
       "<IPython.core.display.Image object>"
      ]
     },
     "execution_count": 39,
     "metadata": {},
     "output_type": "execute_result"
    }
   ],
   "source": [
    "it4000 = Image(filename=r'C:\\Users\\wachu\\Documents\\IIA\\Semestre 6\\Optimizacion & Metaheuristicas II\\P2\\proyectomyImageSmll21738.jpg')\n",
    "it4000"
   ]
  },
  {
   "cell_type": "markdown",
   "metadata": {},
   "source": [
    "### iteracion 6000:"
   ]
  },
  {
   "cell_type": "code",
   "execution_count": 40,
   "metadata": {
    "scrolled": true
   },
   "outputs": [
    {
     "data": {
      "image/jpeg": "[encoded data removed]",
      "text/plain": [
       "<IPython.core.display.Image object>"
      ]
     },
     "execution_count": 40,
     "metadata": {},
     "output_type": "execute_result"
    }
   ],
   "source": [
    "it6000 = Image(filename=r'C:\\Users\\wachu\\Documents\\IIA\\Semestre 6\\Optimizacion & Metaheuristicas II\\P2\\proyectomyImageSmll22478.jpg')\n",
    "it6000"
   ]
  },
  {
   "cell_type": "markdown",
   "metadata": {},
   "source": [
    "### Iteracion 7500"
   ]
  },
  {
   "cell_type": "code",
   "execution_count": 41,
   "metadata": {},
   "outputs": [
    {
     "data": {
      "image/jpeg": "[encoded data removed]",
      "text/plain": [
       "<IPython.core.display.Image object>"
      ]
     },
     "execution_count": 41,
     "metadata": {},
     "output_type": "execute_result"
    }
   ],
   "source": [
    "it7500 = Image(filename=r'C:\\Users\\wachu\\Documents\\IIA\\Semestre 6\\Optimizacion & Metaheuristicas II\\P2\\proyectomyImageSmll23183.jpg')\n",
    "it7500"
   ]
  },
  {
   "cell_type": "code",
   "execution_count": null,
   "metadata": {},
   "outputs": [],
   "source": []
  }
 ],
 "metadata": {
  "kernelspec": {
   "display_name": "Python 3",
   "language": "python",
   "name": "python3"
  },
  "language_info": {
   "codemirror_mode": {
    "name": "ipython",
    "version": 3
   },
   "file_extension": ".py",
   "mimetype": "text/x-python",
   "name": "python",
   "nbconvert_exporter": "python",
   "pygments_lexer": "ipython3",
   "version": "3.7.3"
  }
 },
 "nbformat": 4,
 "nbformat_minor": 2
}
